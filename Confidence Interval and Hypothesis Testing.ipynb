{
 "cells": [
  {
   "cell_type": "markdown",
   "id": "b290d3e7",
   "metadata": {},
   "source": [
    "## This notebook will show the major features of the data set and will explore two questions relating to the data"
   ]
  },
  {
   "cell_type": "code",
   "execution_count": 31,
   "id": "067bc556",
   "metadata": {},
   "outputs": [],
   "source": [
    "import matplotlib.pyplot as plt\n",
    "import numpy as np\n",
    "import pandas as pd\n",
    "import scipy as sp\n",
    "import scipy.stats"
   ]
  },
  {
   "cell_type": "code",
   "execution_count": 2,
   "id": "84552e6f",
   "metadata": {},
   "outputs": [
    {
     "data": {
      "text/html": [
       "<div>\n",
       "<style scoped>\n",
       "    .dataframe tbody tr th:only-of-type {\n",
       "        vertical-align: middle;\n",
       "    }\n",
       "\n",
       "    .dataframe tbody tr th {\n",
       "        vertical-align: top;\n",
       "    }\n",
       "\n",
       "    .dataframe thead th {\n",
       "        text-align: right;\n",
       "    }\n",
       "</style>\n",
       "<table border=\"1\" class=\"dataframe\">\n",
       "  <thead>\n",
       "    <tr style=\"text-align: right;\">\n",
       "      <th></th>\n",
       "      <th>#</th>\n",
       "      <th>Name</th>\n",
       "      <th>Type 1</th>\n",
       "      <th>Type 2</th>\n",
       "      <th>Total</th>\n",
       "      <th>HP</th>\n",
       "      <th>Attack</th>\n",
       "      <th>Defense</th>\n",
       "      <th>Sp. Atk</th>\n",
       "      <th>Sp. Def</th>\n",
       "      <th>Speed</th>\n",
       "      <th>Generation</th>\n",
       "      <th>Legendary</th>\n",
       "    </tr>\n",
       "  </thead>\n",
       "  <tbody>\n",
       "    <tr>\n",
       "      <th>0</th>\n",
       "      <td>1</td>\n",
       "      <td>Bulbasaur</td>\n",
       "      <td>Grass</td>\n",
       "      <td>Poison</td>\n",
       "      <td>318</td>\n",
       "      <td>45</td>\n",
       "      <td>49</td>\n",
       "      <td>49</td>\n",
       "      <td>65</td>\n",
       "      <td>65</td>\n",
       "      <td>45</td>\n",
       "      <td>1</td>\n",
       "      <td>False</td>\n",
       "    </tr>\n",
       "    <tr>\n",
       "      <th>1</th>\n",
       "      <td>2</td>\n",
       "      <td>Ivysaur</td>\n",
       "      <td>Grass</td>\n",
       "      <td>Poison</td>\n",
       "      <td>405</td>\n",
       "      <td>60</td>\n",
       "      <td>62</td>\n",
       "      <td>63</td>\n",
       "      <td>80</td>\n",
       "      <td>80</td>\n",
       "      <td>60</td>\n",
       "      <td>1</td>\n",
       "      <td>False</td>\n",
       "    </tr>\n",
       "    <tr>\n",
       "      <th>2</th>\n",
       "      <td>3</td>\n",
       "      <td>Venusaur</td>\n",
       "      <td>Grass</td>\n",
       "      <td>Poison</td>\n",
       "      <td>525</td>\n",
       "      <td>80</td>\n",
       "      <td>82</td>\n",
       "      <td>83</td>\n",
       "      <td>100</td>\n",
       "      <td>100</td>\n",
       "      <td>80</td>\n",
       "      <td>1</td>\n",
       "      <td>False</td>\n",
       "    </tr>\n",
       "    <tr>\n",
       "      <th>3</th>\n",
       "      <td>3</td>\n",
       "      <td>VenusaurMega Venusaur</td>\n",
       "      <td>Grass</td>\n",
       "      <td>Poison</td>\n",
       "      <td>625</td>\n",
       "      <td>80</td>\n",
       "      <td>100</td>\n",
       "      <td>123</td>\n",
       "      <td>122</td>\n",
       "      <td>120</td>\n",
       "      <td>80</td>\n",
       "      <td>1</td>\n",
       "      <td>False</td>\n",
       "    </tr>\n",
       "    <tr>\n",
       "      <th>4</th>\n",
       "      <td>4</td>\n",
       "      <td>Charmander</td>\n",
       "      <td>Fire</td>\n",
       "      <td>NaN</td>\n",
       "      <td>309</td>\n",
       "      <td>39</td>\n",
       "      <td>52</td>\n",
       "      <td>43</td>\n",
       "      <td>60</td>\n",
       "      <td>50</td>\n",
       "      <td>65</td>\n",
       "      <td>1</td>\n",
       "      <td>False</td>\n",
       "    </tr>\n",
       "    <tr>\n",
       "      <th>...</th>\n",
       "      <td>...</td>\n",
       "      <td>...</td>\n",
       "      <td>...</td>\n",
       "      <td>...</td>\n",
       "      <td>...</td>\n",
       "      <td>...</td>\n",
       "      <td>...</td>\n",
       "      <td>...</td>\n",
       "      <td>...</td>\n",
       "      <td>...</td>\n",
       "      <td>...</td>\n",
       "      <td>...</td>\n",
       "      <td>...</td>\n",
       "    </tr>\n",
       "    <tr>\n",
       "      <th>795</th>\n",
       "      <td>719</td>\n",
       "      <td>Diancie</td>\n",
       "      <td>Rock</td>\n",
       "      <td>Fairy</td>\n",
       "      <td>600</td>\n",
       "      <td>50</td>\n",
       "      <td>100</td>\n",
       "      <td>150</td>\n",
       "      <td>100</td>\n",
       "      <td>150</td>\n",
       "      <td>50</td>\n",
       "      <td>6</td>\n",
       "      <td>True</td>\n",
       "    </tr>\n",
       "    <tr>\n",
       "      <th>796</th>\n",
       "      <td>719</td>\n",
       "      <td>DiancieMega Diancie</td>\n",
       "      <td>Rock</td>\n",
       "      <td>Fairy</td>\n",
       "      <td>700</td>\n",
       "      <td>50</td>\n",
       "      <td>160</td>\n",
       "      <td>110</td>\n",
       "      <td>160</td>\n",
       "      <td>110</td>\n",
       "      <td>110</td>\n",
       "      <td>6</td>\n",
       "      <td>True</td>\n",
       "    </tr>\n",
       "    <tr>\n",
       "      <th>797</th>\n",
       "      <td>720</td>\n",
       "      <td>HoopaHoopa Confined</td>\n",
       "      <td>Psychic</td>\n",
       "      <td>Ghost</td>\n",
       "      <td>600</td>\n",
       "      <td>80</td>\n",
       "      <td>110</td>\n",
       "      <td>60</td>\n",
       "      <td>150</td>\n",
       "      <td>130</td>\n",
       "      <td>70</td>\n",
       "      <td>6</td>\n",
       "      <td>True</td>\n",
       "    </tr>\n",
       "    <tr>\n",
       "      <th>798</th>\n",
       "      <td>720</td>\n",
       "      <td>HoopaHoopa Unbound</td>\n",
       "      <td>Psychic</td>\n",
       "      <td>Dark</td>\n",
       "      <td>680</td>\n",
       "      <td>80</td>\n",
       "      <td>160</td>\n",
       "      <td>60</td>\n",
       "      <td>170</td>\n",
       "      <td>130</td>\n",
       "      <td>80</td>\n",
       "      <td>6</td>\n",
       "      <td>True</td>\n",
       "    </tr>\n",
       "    <tr>\n",
       "      <th>799</th>\n",
       "      <td>721</td>\n",
       "      <td>Volcanion</td>\n",
       "      <td>Fire</td>\n",
       "      <td>Water</td>\n",
       "      <td>600</td>\n",
       "      <td>80</td>\n",
       "      <td>110</td>\n",
       "      <td>120</td>\n",
       "      <td>130</td>\n",
       "      <td>90</td>\n",
       "      <td>70</td>\n",
       "      <td>6</td>\n",
       "      <td>True</td>\n",
       "    </tr>\n",
       "  </tbody>\n",
       "</table>\n",
       "<p>800 rows × 13 columns</p>\n",
       "</div>"
      ],
      "text/plain": [
       "       #                   Name   Type 1  Type 2  Total  HP  Attack  Defense  \\\n",
       "0      1              Bulbasaur    Grass  Poison    318  45      49       49   \n",
       "1      2                Ivysaur    Grass  Poison    405  60      62       63   \n",
       "2      3               Venusaur    Grass  Poison    525  80      82       83   \n",
       "3      3  VenusaurMega Venusaur    Grass  Poison    625  80     100      123   \n",
       "4      4             Charmander     Fire     NaN    309  39      52       43   \n",
       "..   ...                    ...      ...     ...    ...  ..     ...      ...   \n",
       "795  719                Diancie     Rock   Fairy    600  50     100      150   \n",
       "796  719    DiancieMega Diancie     Rock   Fairy    700  50     160      110   \n",
       "797  720    HoopaHoopa Confined  Psychic   Ghost    600  80     110       60   \n",
       "798  720     HoopaHoopa Unbound  Psychic    Dark    680  80     160       60   \n",
       "799  721              Volcanion     Fire   Water    600  80     110      120   \n",
       "\n",
       "     Sp. Atk  Sp. Def  Speed  Generation  Legendary  \n",
       "0         65       65     45           1      False  \n",
       "1         80       80     60           1      False  \n",
       "2        100      100     80           1      False  \n",
       "3        122      120     80           1      False  \n",
       "4         60       50     65           1      False  \n",
       "..       ...      ...    ...         ...        ...  \n",
       "795      100      150     50           6       True  \n",
       "796      160      110    110           6       True  \n",
       "797      150      130     70           6       True  \n",
       "798      170      130     80           6       True  \n",
       "799      130       90     70           6       True  \n",
       "\n",
       "[800 rows x 13 columns]"
      ]
     },
     "execution_count": 2,
     "metadata": {},
     "output_type": "execute_result"
    }
   ],
   "source": [
    "data = pd.read_csv('Pokemon.csv')\n",
    "data"
   ]
  },
  {
   "cell_type": "code",
   "execution_count": 3,
   "id": "5ec37f63",
   "metadata": {},
   "outputs": [
    {
     "data": {
      "image/png": "[encoded data removed]",
      "text/plain": [
       "<Figure size 1008x432 with 1 Axes>"
      ]
     },
     "metadata": {
      "needs_background": "light"
     },
     "output_type": "display_data"
    }
   ],
   "source": [
    "poke_type = data['Type 1']\n",
    "plt.figure(figsize = [14,6])\n",
    "plt.hist(poke_type, bins = 18)\n",
    "plt.title('Histogram of the 18 Different Types of 800 Pokémon in our Sample', fontsize = 14)\n",
    "plt.savefig('Poke_hist.png')"
   ]
  },
  {
   "cell_type": "code",
   "execution_count": 4,
   "id": "cba61a4c",
   "metadata": {},
   "outputs": [
    {
     "data": {
      "image/png": "[encoded data removed]",
      "text/plain": [
       "<Figure size 720x432 with 2 Axes>"
      ]
     },
     "metadata": {
      "needs_background": "light"
     },
     "output_type": "display_data"
    }
   ],
   "source": [
    "attack = data['Attack']\n",
    "defense = data['Defense']\n",
    "speed = data['Speed']\n",
    "plt.figure(figsize = [10,6])\n",
    "plt.scatter(attack, defense, c = speed, cmap = 'viridis')\n",
    "plt.colorbar(label = 'Speed')\n",
    "plt.xlabel('Attack', fontsize = 12)\n",
    "plt.ylabel('Defense', fontsize = 12)\n",
    "plt.savefig('atk_vs_def_vs_speed.png')"
   ]
  },
  {
   "cell_type": "markdown",
   "id": "594a00f9",
   "metadata": {},
   "source": [
    "### Let's explore the feature space of Fire types and Water types"
   ]
  },
  {
   "cell_type": "code",
   "execution_count": 5,
   "id": "f7cb0f15",
   "metadata": {},
   "outputs": [
    {
     "data": {
      "image/png": "[encoded data removed]",
      "text/plain": [
       "<Figure size 576x432 with 1 Axes>"
      ]
     },
     "metadata": {
      "needs_background": "light"
     },
     "output_type": "display_data"
    }
   ],
   "source": [
    "fire_ix = np.where(poke_type == 'Fire')[0]\n",
    "water_ix = np.where(poke_type == 'Water')[0]\n",
    "\n",
    "sp_attack = data['Sp. Atk']\n",
    "\n",
    "plt.figure(figsize = [8,6])\n",
    "plt.hist(sp_attack[fire_ix],color = 'r', label = 'Fire Types')\n",
    "plt.hist(sp_attack[water_ix],color = 'b', alpha = 0.4, label = 'Water Types')\n",
    "plt.legend()\n",
    "plt.title('Distribution of Special Attack Stats for Fire Types and Water Types', fontsize = 12)\n",
    "plt.xlabel('Special Attack', fontsize = 12)\n",
    "plt.savefig('water_fire_sp_atk_hist.png')"
   ]
  },
  {
   "cell_type": "markdown",
   "id": "00597d45",
   "metadata": {},
   "source": [
    "#### Hypothesis Test:\n",
    "Consider the histograms plotted above to be a large sample from the population of Water types and Fire types. Can we say with 95% confidence that Fire types typically have a higher special attack?\n",
    "\n",
    "Let $\\mu_{atk,fire} $ be the mean special attack stat of the population of Fire pokémon, and let $\\mu_{atk,water}$ be the mean special attack stat of the population of Water pokémon.\n",
    "\n",
    "$H_{0}$ : Fire types do not have a higher special attack that Water types. $\\rightarrow \\mu_{atk,fire} = \\mu_{atk,water}$\n",
    "\n",
    "$H_{a}$ : Fire types $\\textit{do}$ have a higher special attack than Water types. $\\rightarrow \\mu_{atk,fire} > \\mu_{atk,water}$\n",
    "\n",
    "Compute $\\bar{x}_{sp.atk,fire}$ , $\\bar{x}_{sp.atk,water}$ , $s_{sp.atk,fire}$ , and  $s_{sp.atk,water}$ :"
   ]
  },
  {
   "cell_type": "code",
   "execution_count": 32,
   "id": "3efe9e22",
   "metadata": {},
   "outputs": [],
   "source": [
    "def compute_stats(element, stat):\n",
    "    '''\n",
    "    Computes mean and standard deviation of a particular physical stat (attack, defense, speed, etc.)\n",
    "    for a given element/Pokémon type (fire, water, electric, etc.).\n",
    "    Both arguments should be strings.\n",
    "    '''\n",
    "    ix = np.where(data['Type 1'] == element)[0]\n",
    "    n = len(ix)\n",
    "    attribute = data[stat]\n",
    "    xbar = np.sum(attribute[ix]) / len(ix)\n",
    "    s = np.sqrt( (1/len(ix)) * np.sum( (attribute[ix]-xbar)**2) )\n",
    "    \n",
    "    return xbar, s, n"
   ]
  },
  {
   "cell_type": "code",
   "execution_count": 33,
   "id": "2c361a4d",
   "metadata": {},
   "outputs": [
    {
     "name": "stdout",
     "output_type": "stream",
     "text": [
      "True\n"
     ]
    }
   ],
   "source": [
    "xbar_sp_atk_fire, s_sp_atk_fire, _ = compute_stats('Fire', 'Sp. Atk')\n",
    "xbar_sp_atk_water, s_sp_atk_water, _ = compute_stats('Water', 'Sp. Atk')\n",
    "\n",
    "if xbar_sp_atk_fire > xbar_sp_atk_water:\n",
    "    print(True)"
   ]
  },
  {
   "cell_type": "markdown",
   "id": "6341dbf4",
   "metadata": {},
   "source": [
    "Now use the t-test statistic to compute a confidence interval for the mean of each sample.\n",
    "\n",
    "Confidence interval for $\\mu$ : $$\\bar{x} \\pm t^{*} \\frac{s}{\\sqrt{n}}$$"
   ]
  },
  {
   "cell_type": "code",
   "execution_count": 34,
   "id": "885ba21e",
   "metadata": {},
   "outputs": [],
   "source": [
    "# use sp.stats.t.sf(t*, df) to get the p-value"
   ]
  },
  {
   "cell_type": "code",
   "execution_count": 35,
   "id": "4ce3daa3",
   "metadata": {},
   "outputs": [],
   "source": [
    "def compute_CI(element, stat):\n",
    "    '''\n",
    "    Compute the confidence interval at a given confidence threshold for a given element and stat.\n",
    "    '''\n",
    "    xbar, s, n = compute_stats(element, stat)\n",
    "    df = n - 1 \n",
    "    tstar = sp.stats.t.ppf(0.05,df)\n",
    "    upper = xbar + (np.abs(tstar) * s / (n**(1/2)))\n",
    "    lower = xbar - (np.abs(tstar) * s / (n**(1/2)))\n",
    "    return lower, upper"
   ]
  },
  {
   "cell_type": "code",
   "execution_count": 36,
   "id": "be37cc28",
   "metadata": {},
   "outputs": [
    {
     "name": "stdout",
     "output_type": "stream",
     "text": [
      "\t\tFire CI \t\t\t\t Water CI \n",
      "(82.0688123134973, 95.89272614804115) \t(70.28290324660374, 79.34209675339626)\n"
     ]
    }
   ],
   "source": [
    "ci_fire = compute_CI('Fire', 'Sp. Atk') \n",
    "ci_water = compute_CI('Water', 'Sp. Atk')\n",
    "\n",
    "print(f'\\t\\tFire CI \\t\\t\\t\\t Water CI \\n{ci_fire} \\t{ci_water}')"
   ]
  },
  {
   "cell_type": "markdown",
   "id": "2b702344",
   "metadata": {},
   "source": [
    "The 95% confidence intervals do not overlap at all! The entire confidence interval for Fire types is higher than that of Water types. Now for the actual hypothesis test. If the sample standard deviations are sufficiently close, then we can make the assumption that $\\sigma_{sp.atk,water} = \\sigma_{sp.atk,fire}$ and use the pooled estimate:\n",
    "\n",
    "$$\n",
    "s_{p} = \\sqrt{ \\frac{ (n_{1}-1)s_{1}^{2} + (n_{2}-1)s_{2}^{2} }{n_{1} + n_{2} -2 } }\n",
    "$$\n",
    "\n",
    "The test statistic will be:\n",
    "\n",
    "$$\n",
    "t = \\frac{ \\bar{x}_{1} - \\bar{x}_{2}}{s_{p}\\sqrt{ \\frac{1}{n_{1}} +  \\frac{1}{n_{2}}}}\n",
    "$$\n",
    "\n",
    "Now, compute these quantities and state the conclusion:"
   ]
  },
  {
   "cell_type": "code",
   "execution_count": 45,
   "id": "0a4b348f",
   "metadata": {},
   "outputs": [],
   "source": [
    "def compute_sp(element1, element2, stat):\n",
    "    xbar1, s1, n1 = compute_stats(element1, stat)\n",
    "    xbar2, s2, n2 = compute_stats(element2, stat)\n",
    "    s_p = np.sqrt( ((n1-1)*s1**2 + (n2-1)*s2**2) / (n1+n2-2))\n",
    "    return s_p\n",
    "\n",
    "def obtain_hypothesis_test_values(element1,element2, stat):\n",
    "    xbar1, s1, n1 = compute_stats(element1, stat)\n",
    "    xbar2, s2, n2 = compute_stats(element2, stat)\n",
    "    s_p = compute_sp(element1,element2,stat)\n",
    "    t = (xbar1 - xbar2)/(s_p*np.sqrt(n1**-1 + n2**-1))\n",
    "    df = n1 + n2 - 2\n",
    "    tstar = sp.stats.t.ppf(0.025,df)\n",
    "    return t, tstar"
   ]
  },
  {
   "cell_type": "code",
   "execution_count": 49,
   "id": "edd53a0c",
   "metadata": {},
   "outputs": [
    {
     "name": "stdout",
     "output_type": "stream",
     "text": [
      "t = -2.8943692633275035 \t t* = -1.9747157859171882 \n",
      "\n",
      "|t|>t* so we can reject the null hypothesis\n"
     ]
    }
   ],
   "source": [
    "t, tstar = obtain_hypothesis_test_values('Water','Fire', 'Sp. Atk')\n",
    "print(f't = {t} \\t t* = {tstar} \\n')\n",
    "if np.abs(t) > tstar:\n",
    "    print('|t|>t* so we can reject the null hypothesis')\n",
    "else:\n",
    "    print('|t|<t* so we cannot reject the null hypothesis')"
   ]
  },
  {
   "cell_type": "markdown",
   "id": "ec5236d4",
   "metadata": {},
   "source": [
    "It has now been shown with 95% confidence that we can say that the mean special attack of fire types is greater than the mean special attack of water types.\n",
    "\n",
    "#### Conclusion: Fire types will typically have a higher special attack stat than water types."
   ]
  },
  {
   "cell_type": "markdown",
   "id": "8fd53446",
   "metadata": {},
   "source": [
    "#### Another question that can be quickly answered: \n",
    "If we distribute one of each Pokémon in the population in a field, what are the odds of finding a particular type?"
   ]
  },
  {
   "cell_type": "code",
   "execution_count": 50,
   "id": "086cae78",
   "metadata": {},
   "outputs": [
    {
     "data": {
      "text/html": [
       "<div>\n",
       "<style scoped>\n",
       "    .dataframe tbody tr th:only-of-type {\n",
       "        vertical-align: middle;\n",
       "    }\n",
       "\n",
       "    .dataframe tbody tr th {\n",
       "        vertical-align: top;\n",
       "    }\n",
       "\n",
       "    .dataframe thead th {\n",
       "        text-align: right;\n",
       "    }\n",
       "</style>\n",
       "<table border=\"1\" class=\"dataframe\">\n",
       "  <thead>\n",
       "    <tr style=\"text-align: right;\">\n",
       "      <th></th>\n",
       "      <th>Type</th>\n",
       "      <th>N</th>\n",
       "      <th>P (random encounter)</th>\n",
       "    </tr>\n",
       "  </thead>\n",
       "  <tbody>\n",
       "    <tr>\n",
       "      <th>0</th>\n",
       "      <td>Bug</td>\n",
       "      <td>69</td>\n",
       "      <td>0.08625</td>\n",
       "    </tr>\n",
       "    <tr>\n",
       "      <th>1</th>\n",
       "      <td>Dark</td>\n",
       "      <td>31</td>\n",
       "      <td>0.03875</td>\n",
       "    </tr>\n",
       "    <tr>\n",
       "      <th>2</th>\n",
       "      <td>Dragon</td>\n",
       "      <td>32</td>\n",
       "      <td>0.04000</td>\n",
       "    </tr>\n",
       "    <tr>\n",
       "      <th>3</th>\n",
       "      <td>Electric</td>\n",
       "      <td>44</td>\n",
       "      <td>0.05500</td>\n",
       "    </tr>\n",
       "    <tr>\n",
       "      <th>4</th>\n",
       "      <td>Fairy</td>\n",
       "      <td>17</td>\n",
       "      <td>0.02125</td>\n",
       "    </tr>\n",
       "    <tr>\n",
       "      <th>5</th>\n",
       "      <td>Fighting</td>\n",
       "      <td>27</td>\n",
       "      <td>0.03375</td>\n",
       "    </tr>\n",
       "    <tr>\n",
       "      <th>6</th>\n",
       "      <td>Fire</td>\n",
       "      <td>52</td>\n",
       "      <td>0.06500</td>\n",
       "    </tr>\n",
       "    <tr>\n",
       "      <th>7</th>\n",
       "      <td>Flying</td>\n",
       "      <td>4</td>\n",
       "      <td>0.00500</td>\n",
       "    </tr>\n",
       "    <tr>\n",
       "      <th>8</th>\n",
       "      <td>Ghost</td>\n",
       "      <td>32</td>\n",
       "      <td>0.04000</td>\n",
       "    </tr>\n",
       "    <tr>\n",
       "      <th>9</th>\n",
       "      <td>Grass</td>\n",
       "      <td>70</td>\n",
       "      <td>0.08750</td>\n",
       "    </tr>\n",
       "    <tr>\n",
       "      <th>10</th>\n",
       "      <td>Ground</td>\n",
       "      <td>32</td>\n",
       "      <td>0.04000</td>\n",
       "    </tr>\n",
       "    <tr>\n",
       "      <th>11</th>\n",
       "      <td>Ice</td>\n",
       "      <td>24</td>\n",
       "      <td>0.03000</td>\n",
       "    </tr>\n",
       "    <tr>\n",
       "      <th>12</th>\n",
       "      <td>Normal</td>\n",
       "      <td>98</td>\n",
       "      <td>0.12250</td>\n",
       "    </tr>\n",
       "    <tr>\n",
       "      <th>13</th>\n",
       "      <td>Poison</td>\n",
       "      <td>28</td>\n",
       "      <td>0.03500</td>\n",
       "    </tr>\n",
       "    <tr>\n",
       "      <th>14</th>\n",
       "      <td>Psychic</td>\n",
       "      <td>57</td>\n",
       "      <td>0.07125</td>\n",
       "    </tr>\n",
       "    <tr>\n",
       "      <th>15</th>\n",
       "      <td>Rock</td>\n",
       "      <td>44</td>\n",
       "      <td>0.05500</td>\n",
       "    </tr>\n",
       "    <tr>\n",
       "      <th>16</th>\n",
       "      <td>Steel</td>\n",
       "      <td>27</td>\n",
       "      <td>0.03375</td>\n",
       "    </tr>\n",
       "    <tr>\n",
       "      <th>17</th>\n",
       "      <td>Water</td>\n",
       "      <td>112</td>\n",
       "      <td>0.14000</td>\n",
       "    </tr>\n",
       "  </tbody>\n",
       "</table>\n",
       "</div>"
      ],
      "text/plain": [
       "        Type    N  P (random encounter)\n",
       "0        Bug   69               0.08625\n",
       "1       Dark   31               0.03875\n",
       "2     Dragon   32               0.04000\n",
       "3   Electric   44               0.05500\n",
       "4      Fairy   17               0.02125\n",
       "5   Fighting   27               0.03375\n",
       "6       Fire   52               0.06500\n",
       "7     Flying    4               0.00500\n",
       "8      Ghost   32               0.04000\n",
       "9      Grass   70               0.08750\n",
       "10    Ground   32               0.04000\n",
       "11       Ice   24               0.03000\n",
       "12    Normal   98               0.12250\n",
       "13    Poison   28               0.03500\n",
       "14   Psychic   57               0.07125\n",
       "15      Rock   44               0.05500\n",
       "16     Steel   27               0.03375\n",
       "17     Water  112               0.14000"
      ]
     },
     "execution_count": 50,
     "metadata": {},
     "output_type": "execute_result"
    }
   ],
   "source": [
    "dataframe = {}\n",
    "poke_types = []\n",
    "N = []\n",
    "P = []\n",
    "for element in np.unique(poke_type):\n",
    "    ix = np.where(poke_type == element)[0]\n",
    "    poke_types += [element]\n",
    "    N += [len(ix)]\n",
    "    P += [len(ix)/len(data)]\n",
    "    \n",
    "    \n",
    "dataframe = pd.DataFrame({'Type':poke_types, 'N': N, 'P (random encounter)': P})\n",
    "dataframe.to_csv('encounter_prob_all_types.csv')\n",
    "dataframe"
   ]
  },
  {
   "cell_type": "code",
   "execution_count": 13,
   "id": "96ff2096",
   "metadata": {},
   "outputs": [],
   "source": [
    "# Output the table above in the format needed for the Latex document\n",
    "table_str = ''\n",
    "for i in range(len(N)):\n",
    "    table_str += f'{poke_types[i]} & {N[i]} & {P[i]} \\\\\\\\ \\n'\n",
    "table_file = open('encounter_prob_table.txt', 'w')\n",
    "table_file.write(table_str)\n",
    "table_file.close()"
   ]
  },
  {
   "cell_type": "code",
   "execution_count": null,
   "id": "05182ea4",
   "metadata": {},
   "outputs": [],
   "source": []
  }
 ],
 "metadata": {
  "kernelspec": {
   "display_name": "Python 3 (ipykernel)",
   "language": "python",
   "name": "python3"
  },
  "language_info": {
   "codemirror_mode": {
    "name": "ipython",
    "version": 3
   },
   "file_extension": ".py",
   "mimetype": "text/x-python",
   "name": "python",
   "nbconvert_exporter": "python",
   "pygments_lexer": "ipython3",
   "version": "3.9.1"
  }
 },
 "nbformat": 4,
 "nbformat_minor": 5
}
